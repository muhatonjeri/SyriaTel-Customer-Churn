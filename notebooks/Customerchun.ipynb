{
 "cells": [
  {
   "cell_type": "markdown",
   "id": "b9cb6142",
   "metadata": {},
   "source": [
    "# 1. Business Understanding\n",
    "\n",
    "## 1.1 Background\n",
    "\n",
    "SyriaTel is one of the largest telecommunications providers in Syria, offering mobile services to a broad range of customers.  \n",
    "In the highly competitive telecom industry, retaining existing customers is critical for sustaining profitability and market share.  \n",
    "\n",
    "However, customer churn — when subscribers discontinue using SyriaTel’s services — poses a significant business challenge.  \n",
    "Losing customers not only decreases revenue but also increases costs due to the need for acquiring new customers through marketing and promotional efforts.\n",
    "\n",
    "---\n",
    "\n",
    "## 1.2 Business Objective\n",
    "\n",
    "The key objective of this project is to develop a **predictive model** that accurately identifies customers likely to churn.  \n",
    "With such a model, SyriaTel will be able to:\n",
    "\n",
    "- Take **proactive retention measures** for high-risk customers  \n",
    "- Design **targeted marketing campaigns**  \n",
    "- Improve **customer satisfaction** by addressing key pain points  \n",
    "\n",
    "Ultimately, this will help **reduce churn rates**, save on customer acquisition costs, and maximize long-term profitability.\n",
    "\n",
    "---\n",
    "\n",
    "## 1.3 Stakeholders\n",
    "\n",
    "| Stakeholder | Interest \n",
    "|---|---|\n",
    "| **Executive Management** | Strategic decisions on customer retention initiatives |\n",
    "| **Marketing Team** | Design targeted offers and promotions |\n",
    "| **Customer Service** | Improve customer engagement and support |\n",
    "| **Data Science Team** | Develop and deploy predictive churn models |\n",
    "\n",
    "---\n",
    "\n",
    "## 1.4 Business Problem Statement\n",
    "\n",
    "- Churn impacts both revenue and brand reputation.\n",
    "- The cost of acquiring a new customer is significantly higher than retaining an existing one.\n",
    "- The current challenge is **lack of early warning systems** for customer churn.\n",
    "\n",
    "By predicting churn probability, SyriaTel can intervene before losing the customer.\n",
    "\n",
    "---\n",
    "\n",
    "## 1.5 Project Goals\n",
    "\n",
    "- **Build a classification model** using customer data to predict churn risk.\n",
    "- **Identify key drivers** (features) contributing to churn.\n",
    "- **Translate data insights into actionable business recommendations.**\n",
    "\n",
    "---\n",
    "\n",
    "## 1.6 Success Metrics\n",
    "\n",
    "- **Model Performance:** Achieve an acceptable balance between precision and recall (using classification metrics like F1-score).\n",
    "- **Business Impact:** Provide insights that SyriaTel’s marketing and customer success teams can implement.\n",
    "- **Actionable Insights:** Highlight features that are strong predictors of churn to inform business decisions.\n",
    "\n",
    "---\n",
    "\n",
    "## 1.7 Project Scope and Limitations\n",
    "\n",
    "- The model will be based on historical customer data available at the time of this project.\n",
    "- Predictions will be probabilistic — they suggest likelihood, not certainty.\n",
    "- Results and recommendations are constrained by the quality and depth of the dataset provided.\n",
    "\n",
    "---\n"
   ]
  },
  {
   "cell_type": "markdown",
   "id": "20a7f930",
   "metadata": {},
   "source": [
    "## 2. Data Understanding.\n",
    "### Dataset Overview  \n",
    "The dataset contains historical customer information from SyriaTel, including demographics, account information, usage patterns, and churn status.  \n",
    "Our goal in this phase is to understand the structure of the data, inspect column details, assess data quality, and identify potential issues for cleaning and preparation.\n",
    "\n",
    "## 2.1 Importing Libraries "
   ]
  },
  {
   "cell_type": "code",
   "execution_count": 27,
   "id": "3b0f49ee",
   "metadata": {},
   "outputs": [],
   "source": [
    "\n",
    "import pandas as pd\n",
    "import numpy as np\n",
    "import matplotlib.pyplot as plt\n",
    "import seaborn as sns\n",
    "\n"
   ]
  },
  {
   "cell_type": "markdown",
   "id": "23b07f1c",
   "metadata": {},
   "source": [
    "## 2.2 Loading and Preview Dataset"
   ]
  },
  {
   "cell_type": "code",
   "execution_count": 7,
   "id": "69ddc1da",
   "metadata": {},
   "outputs": [],
   "source": [
    "df = pd.read_csv('../data/bigml_59c28831336c6604c800002a.csv')"
   ]
  },
  {
   "cell_type": "markdown",
   "id": "2985d125",
   "metadata": {},
   "source": [
    "## 2.3 Check Dataset Shape & Columns"
   ]
  },
  {
   "cell_type": "code",
   "execution_count": 8,
   "id": "0b286541",
   "metadata": {},
   "outputs": [
    {
     "name": "stdout",
     "output_type": "stream",
     "text": [
      "Dataset Shape: (3333, 21)\n",
      "\n",
      "Columns:\n",
      " ['state', 'account length', 'area code', 'phone number', 'international plan', 'voice mail plan', 'number vmail messages', 'total day minutes', 'total day calls', 'total day charge', 'total eve minutes', 'total eve calls', 'total eve charge', 'total night minutes', 'total night calls', 'total night charge', 'total intl minutes', 'total intl calls', 'total intl charge', 'customer service calls', 'churn']\n"
     ]
    }
   ],
   "source": [
    "\n",
    "print(f\"Dataset Shape: {df.shape}\")\n",
    "print(\"\\nColumns:\\n\", df.columns.tolist())\n"
   ]
  },
  {
   "cell_type": "markdown",
   "id": "19da5550",
   "metadata": {},
   "source": [
    "## 2.4 Checking Data Types and Null values."
   ]
  },
  {
   "cell_type": "code",
   "execution_count": 9,
   "id": "6613eec9",
   "metadata": {},
   "outputs": [
    {
     "name": "stdout",
     "output_type": "stream",
     "text": [
      "<class 'pandas.core.frame.DataFrame'>\n",
      "RangeIndex: 3333 entries, 0 to 3332\n",
      "Data columns (total 21 columns):\n",
      " #   Column                  Non-Null Count  Dtype  \n",
      "---  ------                  --------------  -----  \n",
      " 0   state                   3333 non-null   object \n",
      " 1   account length          3333 non-null   int64  \n",
      " 2   area code               3333 non-null   int64  \n",
      " 3   phone number            3333 non-null   object \n",
      " 4   international plan      3333 non-null   object \n",
      " 5   voice mail plan         3333 non-null   object \n",
      " 6   number vmail messages   3333 non-null   int64  \n",
      " 7   total day minutes       3333 non-null   float64\n",
      " 8   total day calls         3333 non-null   int64  \n",
      " 9   total day charge        3333 non-null   float64\n",
      " 10  total eve minutes       3333 non-null   float64\n",
      " 11  total eve calls         3333 non-null   int64  \n",
      " 12  total eve charge        3333 non-null   float64\n",
      " 13  total night minutes     3333 non-null   float64\n",
      " 14  total night calls       3333 non-null   int64  \n",
      " 15  total night charge      3333 non-null   float64\n",
      " 16  total intl minutes      3333 non-null   float64\n",
      " 17  total intl calls        3333 non-null   int64  \n",
      " 18  total intl charge       3333 non-null   float64\n",
      " 19  customer service calls  3333 non-null   int64  \n",
      " 20  churn                   3333 non-null   bool   \n",
      "dtypes: bool(1), float64(8), int64(8), object(4)\n",
      "memory usage: 524.2+ KB\n"
     ]
    },
    {
     "data": {
      "text/plain": [
       "state                     0\n",
       "account length            0\n",
       "area code                 0\n",
       "phone number              0\n",
       "international plan        0\n",
       "voice mail plan           0\n",
       "number vmail messages     0\n",
       "total day minutes         0\n",
       "total day calls           0\n",
       "total day charge          0\n",
       "total eve minutes         0\n",
       "total eve calls           0\n",
       "total eve charge          0\n",
       "total night minutes       0\n",
       "total night calls         0\n",
       "total night charge        0\n",
       "total intl minutes        0\n",
       "total intl calls          0\n",
       "total intl charge         0\n",
       "customer service calls    0\n",
       "churn                     0\n",
       "dtype: int64"
      ]
     },
     "execution_count": 9,
     "metadata": {},
     "output_type": "execute_result"
    }
   ],
   "source": [
    "\n",
    "df.info()\n",
    "df.isnull().sum()\n"
   ]
  },
  {
   "cell_type": "markdown",
   "id": "3db64990",
   "metadata": {},
   "source": [
    "## 2.5 Quick Descriptive Stats of Numerical Columns"
   ]
  },
  {
   "cell_type": "code",
   "execution_count": 10,
   "id": "1d40f279",
   "metadata": {},
   "outputs": [
    {
     "data": {
      "text/html": [
       "<div>\n",
       "<style scoped>\n",
       "    .dataframe tbody tr th:only-of-type {\n",
       "        vertical-align: middle;\n",
       "    }\n",
       "\n",
       "    .dataframe tbody tr th {\n",
       "        vertical-align: top;\n",
       "    }\n",
       "\n",
       "    .dataframe thead th {\n",
       "        text-align: right;\n",
       "    }\n",
       "</style>\n",
       "<table border=\"1\" class=\"dataframe\">\n",
       "  <thead>\n",
       "    <tr style=\"text-align: right;\">\n",
       "      <th></th>\n",
       "      <th>account length</th>\n",
       "      <th>area code</th>\n",
       "      <th>number vmail messages</th>\n",
       "      <th>total day minutes</th>\n",
       "      <th>total day calls</th>\n",
       "      <th>total day charge</th>\n",
       "      <th>total eve minutes</th>\n",
       "      <th>total eve calls</th>\n",
       "      <th>total eve charge</th>\n",
       "      <th>total night minutes</th>\n",
       "      <th>total night calls</th>\n",
       "      <th>total night charge</th>\n",
       "      <th>total intl minutes</th>\n",
       "      <th>total intl calls</th>\n",
       "      <th>total intl charge</th>\n",
       "      <th>customer service calls</th>\n",
       "    </tr>\n",
       "  </thead>\n",
       "  <tbody>\n",
       "    <tr>\n",
       "      <th>count</th>\n",
       "      <td>3333.000000</td>\n",
       "      <td>3333.000000</td>\n",
       "      <td>3333.000000</td>\n",
       "      <td>3333.000000</td>\n",
       "      <td>3333.000000</td>\n",
       "      <td>3333.000000</td>\n",
       "      <td>3333.000000</td>\n",
       "      <td>3333.000000</td>\n",
       "      <td>3333.000000</td>\n",
       "      <td>3333.000000</td>\n",
       "      <td>3333.000000</td>\n",
       "      <td>3333.000000</td>\n",
       "      <td>3333.000000</td>\n",
       "      <td>3333.000000</td>\n",
       "      <td>3333.000000</td>\n",
       "      <td>3333.000000</td>\n",
       "    </tr>\n",
       "    <tr>\n",
       "      <th>mean</th>\n",
       "      <td>101.064806</td>\n",
       "      <td>437.182418</td>\n",
       "      <td>8.099010</td>\n",
       "      <td>179.775098</td>\n",
       "      <td>100.435644</td>\n",
       "      <td>30.562307</td>\n",
       "      <td>200.980348</td>\n",
       "      <td>100.114311</td>\n",
       "      <td>17.083540</td>\n",
       "      <td>200.872037</td>\n",
       "      <td>100.107711</td>\n",
       "      <td>9.039325</td>\n",
       "      <td>10.237294</td>\n",
       "      <td>4.479448</td>\n",
       "      <td>2.764581</td>\n",
       "      <td>1.562856</td>\n",
       "    </tr>\n",
       "    <tr>\n",
       "      <th>std</th>\n",
       "      <td>39.822106</td>\n",
       "      <td>42.371290</td>\n",
       "      <td>13.688365</td>\n",
       "      <td>54.467389</td>\n",
       "      <td>20.069084</td>\n",
       "      <td>9.259435</td>\n",
       "      <td>50.713844</td>\n",
       "      <td>19.922625</td>\n",
       "      <td>4.310668</td>\n",
       "      <td>50.573847</td>\n",
       "      <td>19.568609</td>\n",
       "      <td>2.275873</td>\n",
       "      <td>2.791840</td>\n",
       "      <td>2.461214</td>\n",
       "      <td>0.753773</td>\n",
       "      <td>1.315491</td>\n",
       "    </tr>\n",
       "    <tr>\n",
       "      <th>min</th>\n",
       "      <td>1.000000</td>\n",
       "      <td>408.000000</td>\n",
       "      <td>0.000000</td>\n",
       "      <td>0.000000</td>\n",
       "      <td>0.000000</td>\n",
       "      <td>0.000000</td>\n",
       "      <td>0.000000</td>\n",
       "      <td>0.000000</td>\n",
       "      <td>0.000000</td>\n",
       "      <td>23.200000</td>\n",
       "      <td>33.000000</td>\n",
       "      <td>1.040000</td>\n",
       "      <td>0.000000</td>\n",
       "      <td>0.000000</td>\n",
       "      <td>0.000000</td>\n",
       "      <td>0.000000</td>\n",
       "    </tr>\n",
       "    <tr>\n",
       "      <th>25%</th>\n",
       "      <td>74.000000</td>\n",
       "      <td>408.000000</td>\n",
       "      <td>0.000000</td>\n",
       "      <td>143.700000</td>\n",
       "      <td>87.000000</td>\n",
       "      <td>24.430000</td>\n",
       "      <td>166.600000</td>\n",
       "      <td>87.000000</td>\n",
       "      <td>14.160000</td>\n",
       "      <td>167.000000</td>\n",
       "      <td>87.000000</td>\n",
       "      <td>7.520000</td>\n",
       "      <td>8.500000</td>\n",
       "      <td>3.000000</td>\n",
       "      <td>2.300000</td>\n",
       "      <td>1.000000</td>\n",
       "    </tr>\n",
       "    <tr>\n",
       "      <th>50%</th>\n",
       "      <td>101.000000</td>\n",
       "      <td>415.000000</td>\n",
       "      <td>0.000000</td>\n",
       "      <td>179.400000</td>\n",
       "      <td>101.000000</td>\n",
       "      <td>30.500000</td>\n",
       "      <td>201.400000</td>\n",
       "      <td>100.000000</td>\n",
       "      <td>17.120000</td>\n",
       "      <td>201.200000</td>\n",
       "      <td>100.000000</td>\n",
       "      <td>9.050000</td>\n",
       "      <td>10.300000</td>\n",
       "      <td>4.000000</td>\n",
       "      <td>2.780000</td>\n",
       "      <td>1.000000</td>\n",
       "    </tr>\n",
       "    <tr>\n",
       "      <th>75%</th>\n",
       "      <td>127.000000</td>\n",
       "      <td>510.000000</td>\n",
       "      <td>20.000000</td>\n",
       "      <td>216.400000</td>\n",
       "      <td>114.000000</td>\n",
       "      <td>36.790000</td>\n",
       "      <td>235.300000</td>\n",
       "      <td>114.000000</td>\n",
       "      <td>20.000000</td>\n",
       "      <td>235.300000</td>\n",
       "      <td>113.000000</td>\n",
       "      <td>10.590000</td>\n",
       "      <td>12.100000</td>\n",
       "      <td>6.000000</td>\n",
       "      <td>3.270000</td>\n",
       "      <td>2.000000</td>\n",
       "    </tr>\n",
       "    <tr>\n",
       "      <th>max</th>\n",
       "      <td>243.000000</td>\n",
       "      <td>510.000000</td>\n",
       "      <td>51.000000</td>\n",
       "      <td>350.800000</td>\n",
       "      <td>165.000000</td>\n",
       "      <td>59.640000</td>\n",
       "      <td>363.700000</td>\n",
       "      <td>170.000000</td>\n",
       "      <td>30.910000</td>\n",
       "      <td>395.000000</td>\n",
       "      <td>175.000000</td>\n",
       "      <td>17.770000</td>\n",
       "      <td>20.000000</td>\n",
       "      <td>20.000000</td>\n",
       "      <td>5.400000</td>\n",
       "      <td>9.000000</td>\n",
       "    </tr>\n",
       "  </tbody>\n",
       "</table>\n",
       "</div>"
      ],
      "text/plain": [
       "       account length    area code  number vmail messages  total day minutes  \\\n",
       "count     3333.000000  3333.000000            3333.000000        3333.000000   \n",
       "mean       101.064806   437.182418               8.099010         179.775098   \n",
       "std         39.822106    42.371290              13.688365          54.467389   \n",
       "min          1.000000   408.000000               0.000000           0.000000   \n",
       "25%         74.000000   408.000000               0.000000         143.700000   \n",
       "50%        101.000000   415.000000               0.000000         179.400000   \n",
       "75%        127.000000   510.000000              20.000000         216.400000   \n",
       "max        243.000000   510.000000              51.000000         350.800000   \n",
       "\n",
       "       total day calls  total day charge  total eve minutes  total eve calls  \\\n",
       "count      3333.000000       3333.000000        3333.000000      3333.000000   \n",
       "mean        100.435644         30.562307         200.980348       100.114311   \n",
       "std          20.069084          9.259435          50.713844        19.922625   \n",
       "min           0.000000          0.000000           0.000000         0.000000   \n",
       "25%          87.000000         24.430000         166.600000        87.000000   \n",
       "50%         101.000000         30.500000         201.400000       100.000000   \n",
       "75%         114.000000         36.790000         235.300000       114.000000   \n",
       "max         165.000000         59.640000         363.700000       170.000000   \n",
       "\n",
       "       total eve charge  total night minutes  total night calls  \\\n",
       "count       3333.000000          3333.000000        3333.000000   \n",
       "mean          17.083540           200.872037         100.107711   \n",
       "std            4.310668            50.573847          19.568609   \n",
       "min            0.000000            23.200000          33.000000   \n",
       "25%           14.160000           167.000000          87.000000   \n",
       "50%           17.120000           201.200000         100.000000   \n",
       "75%           20.000000           235.300000         113.000000   \n",
       "max           30.910000           395.000000         175.000000   \n",
       "\n",
       "       total night charge  total intl minutes  total intl calls  \\\n",
       "count         3333.000000         3333.000000       3333.000000   \n",
       "mean             9.039325           10.237294          4.479448   \n",
       "std              2.275873            2.791840          2.461214   \n",
       "min              1.040000            0.000000          0.000000   \n",
       "25%              7.520000            8.500000          3.000000   \n",
       "50%              9.050000           10.300000          4.000000   \n",
       "75%             10.590000           12.100000          6.000000   \n",
       "max             17.770000           20.000000         20.000000   \n",
       "\n",
       "       total intl charge  customer service calls  \n",
       "count        3333.000000             3333.000000  \n",
       "mean            2.764581                1.562856  \n",
       "std             0.753773                1.315491  \n",
       "min             0.000000                0.000000  \n",
       "25%             2.300000                1.000000  \n",
       "50%             2.780000                1.000000  \n",
       "75%             3.270000                2.000000  \n",
       "max             5.400000                9.000000  "
      ]
     },
     "execution_count": 10,
     "metadata": {},
     "output_type": "execute_result"
    }
   ],
   "source": [
    "\n",
    "df.describe()\n"
   ]
  },
  {
   "cell_type": "markdown",
   "id": "e646a225",
   "metadata": {},
   "source": [
    "## 2.6 Check Unique Values per Column\n",
    "This helps spot categorical columns and potential ID columns."
   ]
  },
  {
   "cell_type": "code",
   "execution_count": 11,
   "id": "12766fca",
   "metadata": {},
   "outputs": [
    {
     "data": {
      "text/plain": [
       "churn                        2\n",
       "international plan           2\n",
       "voice mail plan              2\n",
       "area code                    3\n",
       "customer service calls      10\n",
       "total intl calls            21\n",
       "number vmail messages       46\n",
       "state                       51\n",
       "total day calls            119\n",
       "total night calls          120\n",
       "total eve calls            123\n",
       "total intl minutes         162\n",
       "total intl charge          162\n",
       "account length             212\n",
       "total night charge         933\n",
       "total eve charge          1440\n",
       "total night minutes       1591\n",
       "total eve minutes         1611\n",
       "total day charge          1667\n",
       "total day minutes         1667\n",
       "phone number              3333\n",
       "dtype: int64"
      ]
     },
     "execution_count": 11,
     "metadata": {},
     "output_type": "execute_result"
    }
   ],
   "source": [
    "# 6️⃣ Check unique values for all columns\n",
    "df.nunique().sort_values()\n",
    "\n"
   ]
  },
  {
   "cell_type": "markdown",
   "id": "eee648e2",
   "metadata": {},
   "source": [
    "## 2.7 Checking for Duplicate Records"
   ]
  },
  {
   "cell_type": "code",
   "execution_count": 12,
   "id": "4567c17e",
   "metadata": {},
   "outputs": [
    {
     "name": "stdout",
     "output_type": "stream",
     "text": [
      "Duplicate Rows: 0\n"
     ]
    }
   ],
   "source": [
    "\n",
    "print(f\"Duplicate Rows: {df.duplicated().sum()}\")\n",
    "\n"
   ]
  },
  {
   "cell_type": "markdown",
   "id": "2766b4c6",
   "metadata": {},
   "source": [
    "## 2.8 Initial Observations.\n",
    "\n",
    "- No critical missing values / Missing values in XYZ.\n",
    "- Data types are a mix of numerical and categorical.\n",
    "- Target variable is `Churn` (Binary).\n",
    "- Will explore further during EDA.\n"
   ]
  },
  {
   "cell_type": "markdown",
   "id": "677d1f91",
   "metadata": {},
   "source": [
    "# 3. Data Preparation Tasks\n",
    "We’ll handle missing values, encode categorical variables, and prepare the data for modeling.\n",
    "### Objective  \n",
    "To clean, transform, and prepare the dataset for effective modeling.  \n",
    "This involves handling missing values, encoding categorical variables, and scaling numerical features.\n"
   ]
  },
  {
   "cell_type": "markdown",
   "id": "a2e1f247",
   "metadata": {},
   "source": [
    "## 3.1 Drop Unnecessary Columns"
   ]
  },
  {
   "cell_type": "code",
   "execution_count": 13,
   "id": "c0ad3d3b",
   "metadata": {},
   "outputs": [],
   "source": [
    "\n",
    "df.drop(columns=['customerID'], inplace=True, errors='ignore')\n"
   ]
  },
  {
   "cell_type": "markdown",
   "id": "57646f99",
   "metadata": {},
   "source": [
    "## 3.2 Handle Missing Values\n",
    "Will Check missing values again before handling and For simplicity, drop rows with missing values"
   ]
  },
  {
   "cell_type": "code",
   "execution_count": 14,
   "id": "258c3c4f",
   "metadata": {},
   "outputs": [
    {
     "data": {
      "text/plain": [
       "state                     0\n",
       "account length            0\n",
       "area code                 0\n",
       "phone number              0\n",
       "international plan        0\n",
       "voice mail plan           0\n",
       "number vmail messages     0\n",
       "total day minutes         0\n",
       "total day calls           0\n",
       "total day charge          0\n",
       "total eve minutes         0\n",
       "total eve calls           0\n",
       "total eve charge          0\n",
       "total night minutes       0\n",
       "total night calls         0\n",
       "total night charge        0\n",
       "total intl minutes        0\n",
       "total intl calls          0\n",
       "total intl charge         0\n",
       "customer service calls    0\n",
       "churn                     0\n",
       "dtype: int64"
      ]
     },
     "execution_count": 14,
     "metadata": {},
     "output_type": "execute_result"
    }
   ],
   "source": [
    "# Check missing values again before handling\n",
    "df.isnull().sum()\n",
    "\n",
    "\n"
   ]
  },
  {
   "cell_type": "markdown",
   "id": "b15338b7",
   "metadata": {},
   "source": [
    "## 3.2.a Checking missing value"
   ]
  },
  {
   "cell_type": "code",
   "execution_count": 15,
   "id": "0114583e",
   "metadata": {},
   "outputs": [
    {
     "data": {
      "text/plain": [
       "state                     0\n",
       "account length            0\n",
       "area code                 0\n",
       "phone number              0\n",
       "international plan        0\n",
       "voice mail plan           0\n",
       "number vmail messages     0\n",
       "total day minutes         0\n",
       "total day calls           0\n",
       "total day charge          0\n",
       "total eve minutes         0\n",
       "total eve calls           0\n",
       "total eve charge          0\n",
       "total night minutes       0\n",
       "total night calls         0\n",
       "total night charge        0\n",
       "total intl minutes        0\n",
       "total intl calls          0\n",
       "total intl charge         0\n",
       "customer service calls    0\n",
       "churn                     0\n",
       "dtype: int64"
      ]
     },
     "execution_count": 15,
     "metadata": {},
     "output_type": "execute_result"
    }
   ],
   "source": [
    "df.isnull().sum()"
   ]
  },
  {
   "cell_type": "markdown",
   "id": "3350dad4",
   "metadata": {},
   "source": [
    "## 3.2.b For simplicity, drop rows with missing values"
   ]
  },
  {
   "cell_type": "code",
   "execution_count": 16,
   "id": "f35dfc10",
   "metadata": {},
   "outputs": [],
   "source": [
    "df_clean = df.dropna().copy()"
   ]
  },
  {
   "cell_type": "markdown",
   "id": "a91dc683",
   "metadata": {},
   "source": [
    "## 3.3 Encode Categorical Variables\n",
    "We’ll use LabelEncoder for binary columns and OneHotEncoder for others."
   ]
  },
  {
   "cell_type": "markdown",
   "id": "aeacede3",
   "metadata": {},
   "source": [
    "### Identifying categorical columns."
   ]
  },
  {
   "cell_type": "code",
   "execution_count": 17,
   "id": "23770c60",
   "metadata": {},
   "outputs": [
    {
     "name": "stdout",
     "output_type": "stream",
     "text": [
      "['state', 'account length', 'area code', 'phone number', 'international plan', 'voice mail plan', 'number vmail messages', 'total day minutes', 'total day calls', 'total day charge', 'total eve minutes', 'total eve calls', 'total eve charge', 'total night minutes', 'total night calls', 'total night charge', 'total intl minutes', 'total intl calls', 'total intl charge', 'customer service calls', 'churn']\n"
     ]
    }
   ],
   "source": [
    "print(df_clean.columns.tolist())\n"
   ]
  },
  {
   "cell_type": "markdown",
   "id": "26a3accb",
   "metadata": {},
   "source": [
    "### Label Encoding for 'Churn' target"
   ]
  },
  {
   "cell_type": "code",
   "execution_count": 18,
   "id": "8ee7632b",
   "metadata": {},
   "outputs": [],
   "source": [
    "from sklearn.preprocessing import LabelEncoder\n",
    "\n",
    "\n",
    "le = LabelEncoder()\n",
    "df_clean['churn'] = le.fit_transform(df_clean['churn'])\n",
    "\n"
   ]
  },
  {
   "cell_type": "markdown",
   "id": "924152f6",
   "metadata": {},
   "source": [
    "### 3.4 One-hot encode multi-category columns"
   ]
  },
  {
   "cell_type": "code",
   "execution_count": 19,
   "id": "5c9f695e",
   "metadata": {},
   "outputs": [],
   "source": [
    "\n",
    "df_encoded = pd.get_dummies(df_clean, drop_first=True)"
   ]
  },
  {
   "cell_type": "markdown",
   "id": "554e0bff",
   "metadata": {},
   "source": [
    "### 3.5 Train-Test Split"
   ]
  },
  {
   "cell_type": "code",
   "execution_count": 20,
   "id": "8e5c3acf",
   "metadata": {},
   "outputs": [],
   "source": [
    "from sklearn.model_selection import train_test_split\n",
    "\n",
    "X = df_encoded.drop('churn', axis=1)\n",
    "y = df_encoded['churn']\n",
    "\n",
    "X_train, X_test, y_train, y_test = train_test_split(X, y, test_size=0.2, random_state=42, stratify=y)\n"
   ]
  },
  {
   "cell_type": "markdown",
   "id": "431f0b81",
   "metadata": {},
   "source": [
    "# 4.EDA (Exploratory Data Analysis)\n",
    "We’ll check correlations, feature distributions, and relationships with churn."
   ]
  },
  {
   "cell_type": "markdown",
   "id": "cff6ca95",
   "metadata": {},
   "source": [
    "## 4.1. Summary of Numerical Features"
   ]
  },
  {
   "cell_type": "code",
   "execution_count": 66,
   "id": "464e9e06",
   "metadata": {},
   "outputs": [
    {
     "data": {
      "text/html": [
       "<div>\n",
       "<style scoped>\n",
       "    .dataframe tbody tr th:only-of-type {\n",
       "        vertical-align: middle;\n",
       "    }\n",
       "\n",
       "    .dataframe tbody tr th {\n",
       "        vertical-align: top;\n",
       "    }\n",
       "\n",
       "    .dataframe thead th {\n",
       "        text-align: right;\n",
       "    }\n",
       "</style>\n",
       "<table border=\"1\" class=\"dataframe\">\n",
       "  <thead>\n",
       "    <tr style=\"text-align: right;\">\n",
       "      <th></th>\n",
       "      <th>count</th>\n",
       "      <th>mean</th>\n",
       "      <th>std</th>\n",
       "      <th>min</th>\n",
       "      <th>25%</th>\n",
       "      <th>50%</th>\n",
       "      <th>75%</th>\n",
       "      <th>max</th>\n",
       "    </tr>\n",
       "  </thead>\n",
       "  <tbody>\n",
       "    <tr>\n",
       "      <th>account length</th>\n",
       "      <td>3333.0</td>\n",
       "      <td>101.064806</td>\n",
       "      <td>39.822106</td>\n",
       "      <td>1.00</td>\n",
       "      <td>74.00</td>\n",
       "      <td>101.00</td>\n",
       "      <td>127.00</td>\n",
       "      <td>243.00</td>\n",
       "    </tr>\n",
       "    <tr>\n",
       "      <th>area code</th>\n",
       "      <td>3333.0</td>\n",
       "      <td>437.182418</td>\n",
       "      <td>42.371290</td>\n",
       "      <td>408.00</td>\n",
       "      <td>408.00</td>\n",
       "      <td>415.00</td>\n",
       "      <td>510.00</td>\n",
       "      <td>510.00</td>\n",
       "    </tr>\n",
       "    <tr>\n",
       "      <th>number vmail messages</th>\n",
       "      <td>3333.0</td>\n",
       "      <td>8.099010</td>\n",
       "      <td>13.688365</td>\n",
       "      <td>0.00</td>\n",
       "      <td>0.00</td>\n",
       "      <td>0.00</td>\n",
       "      <td>20.00</td>\n",
       "      <td>51.00</td>\n",
       "    </tr>\n",
       "    <tr>\n",
       "      <th>total day minutes</th>\n",
       "      <td>3333.0</td>\n",
       "      <td>179.775098</td>\n",
       "      <td>54.467389</td>\n",
       "      <td>0.00</td>\n",
       "      <td>143.70</td>\n",
       "      <td>179.40</td>\n",
       "      <td>216.40</td>\n",
       "      <td>350.80</td>\n",
       "    </tr>\n",
       "    <tr>\n",
       "      <th>total day calls</th>\n",
       "      <td>3333.0</td>\n",
       "      <td>100.435644</td>\n",
       "      <td>20.069084</td>\n",
       "      <td>0.00</td>\n",
       "      <td>87.00</td>\n",
       "      <td>101.00</td>\n",
       "      <td>114.00</td>\n",
       "      <td>165.00</td>\n",
       "    </tr>\n",
       "    <tr>\n",
       "      <th>total day charge</th>\n",
       "      <td>3333.0</td>\n",
       "      <td>30.562307</td>\n",
       "      <td>9.259435</td>\n",
       "      <td>0.00</td>\n",
       "      <td>24.43</td>\n",
       "      <td>30.50</td>\n",
       "      <td>36.79</td>\n",
       "      <td>59.64</td>\n",
       "    </tr>\n",
       "    <tr>\n",
       "      <th>total eve minutes</th>\n",
       "      <td>3333.0</td>\n",
       "      <td>200.980348</td>\n",
       "      <td>50.713844</td>\n",
       "      <td>0.00</td>\n",
       "      <td>166.60</td>\n",
       "      <td>201.40</td>\n",
       "      <td>235.30</td>\n",
       "      <td>363.70</td>\n",
       "    </tr>\n",
       "    <tr>\n",
       "      <th>total eve calls</th>\n",
       "      <td>3333.0</td>\n",
       "      <td>100.114311</td>\n",
       "      <td>19.922625</td>\n",
       "      <td>0.00</td>\n",
       "      <td>87.00</td>\n",
       "      <td>100.00</td>\n",
       "      <td>114.00</td>\n",
       "      <td>170.00</td>\n",
       "    </tr>\n",
       "    <tr>\n",
       "      <th>total eve charge</th>\n",
       "      <td>3333.0</td>\n",
       "      <td>17.083540</td>\n",
       "      <td>4.310668</td>\n",
       "      <td>0.00</td>\n",
       "      <td>14.16</td>\n",
       "      <td>17.12</td>\n",
       "      <td>20.00</td>\n",
       "      <td>30.91</td>\n",
       "    </tr>\n",
       "    <tr>\n",
       "      <th>total night minutes</th>\n",
       "      <td>3333.0</td>\n",
       "      <td>200.872037</td>\n",
       "      <td>50.573847</td>\n",
       "      <td>23.20</td>\n",
       "      <td>167.00</td>\n",
       "      <td>201.20</td>\n",
       "      <td>235.30</td>\n",
       "      <td>395.00</td>\n",
       "    </tr>\n",
       "    <tr>\n",
       "      <th>total night calls</th>\n",
       "      <td>3333.0</td>\n",
       "      <td>100.107711</td>\n",
       "      <td>19.568609</td>\n",
       "      <td>33.00</td>\n",
       "      <td>87.00</td>\n",
       "      <td>100.00</td>\n",
       "      <td>113.00</td>\n",
       "      <td>175.00</td>\n",
       "    </tr>\n",
       "    <tr>\n",
       "      <th>total night charge</th>\n",
       "      <td>3333.0</td>\n",
       "      <td>9.039325</td>\n",
       "      <td>2.275873</td>\n",
       "      <td>1.04</td>\n",
       "      <td>7.52</td>\n",
       "      <td>9.05</td>\n",
       "      <td>10.59</td>\n",
       "      <td>17.77</td>\n",
       "    </tr>\n",
       "    <tr>\n",
       "      <th>total intl minutes</th>\n",
       "      <td>3333.0</td>\n",
       "      <td>10.237294</td>\n",
       "      <td>2.791840</td>\n",
       "      <td>0.00</td>\n",
       "      <td>8.50</td>\n",
       "      <td>10.30</td>\n",
       "      <td>12.10</td>\n",
       "      <td>20.00</td>\n",
       "    </tr>\n",
       "    <tr>\n",
       "      <th>total intl calls</th>\n",
       "      <td>3333.0</td>\n",
       "      <td>4.479448</td>\n",
       "      <td>2.461214</td>\n",
       "      <td>0.00</td>\n",
       "      <td>3.00</td>\n",
       "      <td>4.00</td>\n",
       "      <td>6.00</td>\n",
       "      <td>20.00</td>\n",
       "    </tr>\n",
       "    <tr>\n",
       "      <th>total intl charge</th>\n",
       "      <td>3333.0</td>\n",
       "      <td>2.764581</td>\n",
       "      <td>0.753773</td>\n",
       "      <td>0.00</td>\n",
       "      <td>2.30</td>\n",
       "      <td>2.78</td>\n",
       "      <td>3.27</td>\n",
       "      <td>5.40</td>\n",
       "    </tr>\n",
       "    <tr>\n",
       "      <th>customer service calls</th>\n",
       "      <td>3333.0</td>\n",
       "      <td>1.562856</td>\n",
       "      <td>1.315491</td>\n",
       "      <td>0.00</td>\n",
       "      <td>1.00</td>\n",
       "      <td>1.00</td>\n",
       "      <td>2.00</td>\n",
       "      <td>9.00</td>\n",
       "    </tr>\n",
       "    <tr>\n",
       "      <th>churn</th>\n",
       "      <td>3333.0</td>\n",
       "      <td>0.144914</td>\n",
       "      <td>0.352067</td>\n",
       "      <td>0.00</td>\n",
       "      <td>0.00</td>\n",
       "      <td>0.00</td>\n",
       "      <td>0.00</td>\n",
       "      <td>1.00</td>\n",
       "    </tr>\n",
       "  </tbody>\n",
       "</table>\n",
       "</div>"
      ],
      "text/plain": [
       "                         count        mean        std     min     25%     50%  \\\n",
       "account length          3333.0  101.064806  39.822106    1.00   74.00  101.00   \n",
       "area code               3333.0  437.182418  42.371290  408.00  408.00  415.00   \n",
       "number vmail messages   3333.0    8.099010  13.688365    0.00    0.00    0.00   \n",
       "total day minutes       3333.0  179.775098  54.467389    0.00  143.70  179.40   \n",
       "total day calls         3333.0  100.435644  20.069084    0.00   87.00  101.00   \n",
       "total day charge        3333.0   30.562307   9.259435    0.00   24.43   30.50   \n",
       "total eve minutes       3333.0  200.980348  50.713844    0.00  166.60  201.40   \n",
       "total eve calls         3333.0  100.114311  19.922625    0.00   87.00  100.00   \n",
       "total eve charge        3333.0   17.083540   4.310668    0.00   14.16   17.12   \n",
       "total night minutes     3333.0  200.872037  50.573847   23.20  167.00  201.20   \n",
       "total night calls       3333.0  100.107711  19.568609   33.00   87.00  100.00   \n",
       "total night charge      3333.0    9.039325   2.275873    1.04    7.52    9.05   \n",
       "total intl minutes      3333.0   10.237294   2.791840    0.00    8.50   10.30   \n",
       "total intl calls        3333.0    4.479448   2.461214    0.00    3.00    4.00   \n",
       "total intl charge       3333.0    2.764581   0.753773    0.00    2.30    2.78   \n",
       "customer service calls  3333.0    1.562856   1.315491    0.00    1.00    1.00   \n",
       "churn                   3333.0    0.144914   0.352067    0.00    0.00    0.00   \n",
       "\n",
       "                           75%     max  \n",
       "account length          127.00  243.00  \n",
       "area code               510.00  510.00  \n",
       "number vmail messages    20.00   51.00  \n",
       "total day minutes       216.40  350.80  \n",
       "total day calls         114.00  165.00  \n",
       "total day charge         36.79   59.64  \n",
       "total eve minutes       235.30  363.70  \n",
       "total eve calls         114.00  170.00  \n",
       "total eve charge         20.00   30.91  \n",
       "total night minutes     235.30  395.00  \n",
       "total night calls       113.00  175.00  \n",
       "total night charge       10.59   17.77  \n",
       "total intl minutes       12.10   20.00  \n",
       "total intl calls          6.00   20.00  \n",
       "total intl charge         3.27    5.40  \n",
       "customer service calls    2.00    9.00  \n",
       "churn                     0.00    1.00  "
      ]
     },
     "execution_count": 66,
     "metadata": {},
     "output_type": "execute_result"
    }
   ],
   "source": [
    "\n",
    "df_clean.describe().T\n",
    "\n"
   ]
  },
  {
   "cell_type": "markdown",
   "id": "e14c46f5",
   "metadata": {},
   "source": [
    "## 4.1 Summary of Categorical Features"
   ]
  },
  {
   "cell_type": "code",
   "execution_count": 67,
   "id": "14255a4a",
   "metadata": {},
   "outputs": [
    {
     "name": "stdout",
     "output_type": "stream",
     "text": [
      "\n",
      "Value counts for state:\n",
      " state\n",
      "WV    106\n",
      "MN     84\n",
      "NY     83\n",
      "AL     80\n",
      "WI     78\n",
      "OH     78\n",
      "OR     78\n",
      "WY     77\n",
      "VA     77\n",
      "CT     74\n",
      "MI     73\n",
      "ID     73\n",
      "VT     73\n",
      "TX     72\n",
      "UT     72\n",
      "IN     71\n",
      "MD     70\n",
      "KS     70\n",
      "NC     68\n",
      "NJ     68\n",
      "MT     68\n",
      "CO     66\n",
      "NV     66\n",
      "WA     66\n",
      "RI     65\n",
      "MA     65\n",
      "MS     65\n",
      "AZ     64\n",
      "FL     63\n",
      "MO     63\n",
      "NM     62\n",
      "ME     62\n",
      "ND     62\n",
      "NE     61\n",
      "OK     61\n",
      "DE     61\n",
      "SC     60\n",
      "SD     60\n",
      "KY     59\n",
      "IL     58\n",
      "NH     56\n",
      "AR     55\n",
      "GA     54\n",
      "DC     54\n",
      "HI     53\n",
      "TN     53\n",
      "AK     52\n",
      "LA     51\n",
      "PA     45\n",
      "IA     44\n",
      "CA     34\n",
      "Name: count, dtype: int64\n",
      "\n",
      "Value counts for area code:\n",
      " area code\n",
      "415    1655\n",
      "510     840\n",
      "408     838\n",
      "Name: count, dtype: int64\n",
      "\n",
      "Value counts for international plan:\n",
      " international plan\n",
      "no     3010\n",
      "yes     323\n",
      "Name: count, dtype: int64\n",
      "\n",
      "Value counts for voice mail plan:\n",
      " voice mail plan\n",
      "no     2411\n",
      "yes     922\n",
      "Name: count, dtype: int64\n",
      "\n",
      "Value counts for churn:\n",
      " churn\n",
      "0    2850\n",
      "1     483\n",
      "Name: count, dtype: int64\n"
     ]
    }
   ],
   "source": [
    "\n",
    "categorical_cols = ['state', 'area code', 'international plan', 'voice mail plan', 'churn']\n",
    "for col in categorical_cols:\n",
    "    print(f\"\\nValue counts for {col}:\\n\", df_clean[col].value_counts())\n"
   ]
  },
  {
   "cell_type": "markdown",
   "id": "da7f5d98",
   "metadata": {},
   "source": [
    "## 4.2 Churn Distribution Analysis"
   ]
  },
  {
   "cell_type": "code",
   "execution_count": 68,
   "id": "c2340827",
   "metadata": {},
   "outputs": [
    {
     "name": "stdout",
     "output_type": "stream",
     "text": [
      "Churn Counts:\n",
      " churn\n",
      "0    2850\n",
      "1     483\n",
      "Name: count, dtype: int64\n",
      "\n",
      "Churn Percentage:\n",
      " churn\n",
      "0    85.508551\n",
      "1    14.491449\n",
      "Name: proportion, dtype: float64\n"
     ]
    },
    {
     "data": {
      "image/png": "[encoded data removed]",
      "text/plain": [
       "<Figure size 640x480 with 1 Axes>"
      ]
     },
     "metadata": {},
     "output_type": "display_data"
    }
   ],
   "source": [
    "\n",
    "churn_counts = df_clean['churn'].value_counts()\n",
    "churn_percent = df_clean['churn'].value_counts(normalize=True) * 100\n",
    "print(\"Churn Counts:\\n\", churn_counts)\n",
    "print(\"\\nChurn Percentage:\\n\", churn_percent)\n",
    "\n",
    "# Visualize churn distribution\n",
    "sns.countplot(x='churn', data=df_clean)\n",
    "plt.title('Churn Distribution')\n",
    "plt.show()\n",
    "\n"
   ]
  },
  {
   "cell_type": "markdown",
   "id": "92e16d57",
   "metadata": {},
   "source": [
    "## 4.3 Univariate Feature Analysis\n",
    "4.3.1 International Plan vs Churn"
   ]
  },
  {
   "cell_type": "code",
   "execution_count": 69,
   "id": "3acf01f2",
   "metadata": {},
   "outputs": [
    {
     "data": {
      "image/png": "[encoded data removed]",
      "text/plain": [
       "<Figure size 640x480 with 1 Axes>"
      ]
     },
     "metadata": {},
     "output_type": "display_data"
    }
   ],
   "source": [
    "sns.countplot(x='international plan', hue='churn', data=df_clean)\n",
    "plt.title('Churn by International Plan')\n",
    "plt.show()\n",
    "\n"
   ]
  },
  {
   "cell_type": "markdown",
   "id": "cece3cbb",
   "metadata": {},
   "source": [
    "## 4.2 Top Correlations with Churn"
   ]
  },
  {
   "cell_type": "code",
   "execution_count": 22,
   "id": "1e1718b9",
   "metadata": {},
   "outputs": [
    {
     "name": "stdout",
     "output_type": "stream",
     "text": [
      "churn                     1.000000\n",
      "international plan_yes    0.259852\n",
      "customer service calls    0.208750\n",
      "total day minutes         0.205151\n",
      "total day charge          0.205151\n",
      "total eve minutes         0.092796\n",
      "total eve charge          0.092786\n",
      "total intl charge         0.068259\n",
      "total intl minutes        0.068239\n",
      "state_NJ                  0.049111\n",
      "Name: churn, dtype: float64\n",
      "state_WI                -0.024262\n",
      "state_NE                -0.024416\n",
      "state_IA                -0.025212\n",
      "state_WV                -0.026039\n",
      "state_HI                -0.031890\n",
      "state_AZ                -0.032759\n",
      "state_VA                -0.034940\n",
      "total intl calls        -0.052844\n",
      "number vmail messages   -0.089728\n",
      "voice mail plan_yes     -0.102148\n",
      "Name: churn, dtype: float64\n"
     ]
    }
   ],
   "source": [
    "# Get correlation of features with 'Churn'\n",
    "corr_with_churn = df_encoded.corr()['churn'].sort_values(ascending=False)\n",
    "print(corr_with_churn.head(10))  # Top positive correlations\n",
    "print(corr_with_churn.tail(10))  # Top negative correlations\n"
   ]
  },
  {
   "cell_type": "markdown",
   "id": "0d54a200",
   "metadata": {},
   "source": [
    "## 4.3 Visualization Feature Distributions"
   ]
  },
  {
   "cell_type": "code",
   "execution_count": 23,
   "id": "d76a42a9",
   "metadata": {},
   "outputs": [
    {
     "data": {
      "image/png": "[encoded data removed]",
      "text/plain": [
       "<Figure size 640x480 with 1 Axes>"
      ]
     },
     "metadata": {},
     "output_type": "display_data"
    }
   ],
   "source": [
    "sns.boxplot(data=df_clean, x='churn', y='total intl charge')\n",
    "plt.title('total intl charge vs churn')\n",
    "plt.show()\n"
   ]
  },
  {
   "cell_type": "code",
   "execution_count": 24,
   "id": "7bf9feb9",
   "metadata": {},
   "outputs": [
    {
     "name": "stdout",
     "output_type": "stream",
     "text": [
      "Index(['state', 'account length', 'area code', 'phone number',\n",
      "       'international plan', 'voice mail plan', 'number vmail messages',\n",
      "       'total day minutes', 'total day calls', 'total day charge',\n",
      "       'total eve minutes', 'total eve calls', 'total eve charge',\n",
      "       'total night minutes', 'total night calls', 'total night charge',\n",
      "       'total intl minutes', 'total intl calls', 'total intl charge',\n",
      "       'customer service calls', 'churn'],\n",
      "      dtype='object')\n"
     ]
    }
   ],
   "source": [
    "print(df_clean.columns)\n"
   ]
  },
  {
   "cell_type": "markdown",
   "id": "2ef32c5e",
   "metadata": {},
   "source": [
    "## 4.4 Visualization of  international plan vs churn "
   ]
  },
  {
   "cell_type": "code",
   "execution_count": 25,
   "id": "7c2a6c57",
   "metadata": {},
   "outputs": [
    {
     "data": {
      "image/png": "[encoded data removed]",
      "text/plain": [
       "<Figure size 640x480 with 1 Axes>"
      ]
     },
     "metadata": {},
     "output_type": "display_data"
    }
   ],
   "source": [
    "sns.countplot(data=df_clean, x='international plan', hue='churn')\n",
    "plt.title('international plan vs churn')\n",
    "plt.xticks(rotation=45)\n",
    "plt.show()\n"
   ]
  },
  {
   "cell_type": "markdown",
   "id": "ce68fe2a",
   "metadata": {},
   "source": [
    "## 5️. Statistical Analysis"
   ]
  },
  {
   "cell_type": "markdown",
   "id": "a1d6a054",
   "metadata": {},
   "source": [
    "### 5.1 Descriptive Statistics Summary  \n",
    "\n",
    "**Objective:**  \n",
    "The purpose of this section is to statistically validate whether the observed patterns in the data are significant or could have occurred by random chance.\n",
    "\n",
    "\n",
    "\n",
    "We will perform:  \n",
    "- **Chi-Square Tests** for categorical variables  \n",
    "- **Independent Samples T-Tests** for numerical variables\n"
   ]
  },
  {
   "cell_type": "markdown",
   "id": "e17c00f6",
   "metadata": {},
   "source": [
    "## 5.2 Chi-Square Test of Independence (For Categorical Variables)\n",
    "\n",
    "**1. What is the Chi-Square Test?**  \n",
    "The Chi-Square Test of Independence checks whether two categorical variables are related or independent of each other.\n",
    "\n",
    "\n",
    "\n",
    "**2. Hypotheses:**  \n",
    "- **Null Hypothesis (H₀):** The categorical variable is independent of churn — *No association.*  \n",
    "- **Alternative Hypothesis (H₁):** The categorical variable is dependent on churn — *Significant association exists.*\n",
    "\n",
    "\n",
    "\n",
    "**3. Assumptions:**  \n",
    "- Both variables are categorical.  \n",
    "- Observations are independent.\n"
   ]
  },
  {
   "cell_type": "markdown",
   "id": "fc2c5f04",
   "metadata": {},
   "source": [
    "## Chi-Square Test Function:"
   ]
  },
  {
   "cell_type": "code",
   "execution_count": 48,
   "id": "728f0f94",
   "metadata": {},
   "outputs": [],
   "source": [
    "from scipy.stats import chi2_contingency\n",
    "\n",
    "def chi_square_test(col_name):\n",
    "    contingency = pd.crosstab(df_clean[col_name], df_clean['churn'])\n",
    "    chi2, p, dof, expected = chi2_contingency(contingency)\n",
    "    print(f\"Chi-Square Test ➔ {col_name} vs Churn\")\n",
    "    print(f\"p-value: {p:.4f}\")\n",
    "    if p < 0.05:\n",
    "        print(\" POSITIVE Result: Significant association with Churn\\n\")\n",
    "    else:\n",
    "        print(\" NEGATIVE Result: No significant association with Churn\\n\")\n"
   ]
  },
  {
   "cell_type": "code",
   "execution_count": 49,
   "id": "197cb650",
   "metadata": {},
   "outputs": [
    {
     "name": "stdout",
     "output_type": "stream",
     "text": [
      "Chi-Square Test ➔ state vs Churn\n",
      "p-value: 0.0023\n",
      " POSITIVE Result: Significant association with Churn\n",
      "\n",
      "Chi-Square Test ➔ area code vs Churn\n",
      "p-value: 0.9151\n",
      " NEGATIVE Result: No significant association with Churn\n",
      "\n",
      "Chi-Square Test ➔ international plan vs Churn\n",
      "p-value: 0.0000\n",
      " POSITIVE Result: Significant association with Churn\n",
      "\n",
      "Chi-Square Test ➔ voice mail plan vs Churn\n",
      "p-value: 0.0000\n",
      " POSITIVE Result: Significant association with Churn\n",
      "\n"
     ]
    }
   ],
   "source": [
    "chi_square_test('state')\n",
    "chi_square_test('area code')\n",
    "chi_square_test('international plan')\n",
    "chi_square_test('voice mail plan')"
   ]
  },
  {
   "cell_type": "markdown",
   "id": "dcf40af7",
   "metadata": {},
   "source": [
    "## 5.3 Independent Samples T-Test (For Numerical Variables)\n",
    "\n",
    "**- What is the T-Test?**  \n",
    "The T-Test compares the means of two groups (e.g., churned vs. non-churned) to determine if they are statistically different.\n",
    "\n",
    "\n",
    "\n",
    "**- Hypotheses:**  \n",
    "- **Null Hypothesis (H₀):** There is no difference in the means of the two groups.  \n",
    "- **Alternative Hypothesis (H₁):** There is a statistically significant difference.\n",
    "\n",
    "\n",
    "\n",
    "**- Assumptions:**  \n",
    "- Data is approximately normally distributed (Central Limit Theorem applies due to large sample size).  \n",
    "- Observations are independent.  \n",
    "- Variances are approximately equal.\n"
   ]
  },
  {
   "cell_type": "markdown",
   "id": "0336ce1d",
   "metadata": {},
   "source": [
    "### T-Test Function(for numerical values)"
   ]
  },
  {
   "cell_type": "code",
   "execution_count": 46,
   "id": "14eccb0e",
   "metadata": {},
   "outputs": [],
   "source": [
    "from scipy.stats import ttest_ind\n",
    "\n",
    "def t_test(col_name):\n",
    "    churn_yes = df_clean[df_clean['churn'] == True][col_name]\n",
    "    churn_no = df_clean[df_clean['churn'] == False][col_name]\n",
    "    t_stat, p_val = ttest_ind(churn_yes, churn_no)\n",
    "    print(f\"T-Test ➔ {col_name}\")\n",
    "    print(f\"p-value: {p_val:.4f}\")\n",
    "    if p_val < 0.05:\n",
    "        print(\"POSITIVE Result: Significant difference between churn groups\\n\")\n",
    "    else:\n",
    "        print(\"NEGATIVE Result: No significant difference between churn groups\\n\")\n"
   ]
  },
  {
   "cell_type": "code",
   "execution_count": 47,
   "id": "b15b5de0",
   "metadata": {},
   "outputs": [
    {
     "name": "stdout",
     "output_type": "stream",
     "text": [
      "T-Test ➔ account length\n",
      "p-value: 0.3398\n",
      "NEGATIVE Result: No significant difference between churn groups\n",
      "\n",
      "T-Test ➔ total day minutes\n",
      "p-value: 0.0000\n",
      "POSITIVE Result: Significant difference between churn groups\n",
      "\n",
      "T-Test ➔ total eve minutes\n",
      "p-value: 0.0000\n",
      "POSITIVE Result: Significant difference between churn groups\n",
      "\n",
      "T-Test ➔ total night minutes\n",
      "p-value: 0.0405\n",
      "POSITIVE Result: Significant difference between churn groups\n",
      "\n",
      "T-Test ➔ total intl minutes\n",
      "p-value: 0.0001\n",
      "POSITIVE Result: Significant difference between churn groups\n",
      "\n",
      "T-Test ➔ customer service calls\n",
      "p-value: 0.0000\n",
      "POSITIVE Result: Significant difference between churn groups\n",
      "\n"
     ]
    }
   ],
   "source": [
    "t_test('account length')\n",
    "t_test('total day minutes')\n",
    "t_test('total eve minutes')\n",
    "t_test('total night minutes')\n",
    "t_test('total intl minutes')\n",
    "t_test('customer service calls')\n"
   ]
  },
  {
   "cell_type": "markdown",
   "id": "c25f1aca",
   "metadata": {},
   "source": [
    "### 5.4 Combined Insights Summary"
   ]
  },
  {
   "cell_type": "markdown",
   "id": "abb04edb",
   "metadata": {},
   "source": [
    "| Variable               | Significant? | Test Used  |\n",
    "| ---------------------- | ------------ | ---------- |\n",
    "| International Plan     | Positive        | Chi-Square |\n",
    "| Voice Mail Plan        | Positive        | Chi-Square |\n",
    "| State                  | Negative        | Chi-Square |\n",
    "| Area Code              | Negative        | Chi-Square |\n",
    "| Total Day Minutes      | Positive         | T-Test     |\n",
    "| Total Eve Minutes      | Positive         | T-Test     |\n",
    "| Total Night Minutes    | Positive         | T-Test     |\n",
    "| Total Intl Minutes     | Positive        | T-Test     |\n",
    "| Customer Service Calls | Positive       | T-Test     |\n",
    "| Account Length         | Negative        | T-Test     |\n"
   ]
  }
 ],
 "metadata": {
  "kernelspec": {
   "display_name": "base",
   "language": "python",
   "name": "python3"
  },
  "language_info": {
   "codemirror_mode": {
    "name": "ipython",
    "version": 3
   },
   "file_extension": ".py",
   "mimetype": "text/x-python",
   "name": "python",
   "nbconvert_exporter": "python",
   "pygments_lexer": "ipython3",
   "version": "3.12.7"
  }
 },
 "nbformat": 4,
 "nbformat_minor": 5
}
