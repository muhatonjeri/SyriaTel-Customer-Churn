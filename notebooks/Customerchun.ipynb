{
 "cells": [
  {
   "cell_type": "markdown",
   "id": "b9cb6142",
   "metadata": {},
   "source": [
    "# 1. Business Understanding\n",
    "\n",
    "## 1.1 Background\n",
    "\n",
    "SyriaTel is one of the largest telecommunications providers in Syria, offering mobile services to a broad range of customers.  \n",
    "In the highly competitive telecom industry, retaining existing customers is critical for sustaining profitability and market share.  \n",
    "\n",
    "However, customer churn — when subscribers discontinue using SyriaTel’s services — poses a significant business challenge.  \n",
    "Losing customers not only decreases revenue but also increases costs due to the need for acquiring new customers through marketing and promotional efforts.\n",
    "\n",
    "---\n",
    "\n",
    "## 1.2 Business Objective\n",
    "\n",
    "The key objective of this project is to develop a **predictive model** that accurately identifies customers likely to churn.  \n",
    "With such a model, SyriaTel will be able to:\n",
    "\n",
    "- Take **proactive retention measures** for high-risk customers  \n",
    "- Design **targeted marketing campaigns**  \n",
    "- Improve **customer satisfaction** by addressing key pain points  \n",
    "\n",
    "Ultimately, this will help **reduce churn rates**, save on customer acquisition costs, and maximize long-term profitability.\n",
    "\n",
    "---\n",
    "\n",
    "## 1.3 Stakeholders\n",
    "\n",
    "| Stakeholder | Interest \n",
    "|---|---|\n",
    "| **Executive Management** | Strategic decisions on customer retention initiatives |\n",
    "| **Marketing Team** | Design targeted offers and promotions |\n",
    "| **Customer Service** | Improve customer engagement and support |\n",
    "| **Data Science Team** | Develop and deploy predictive churn models |\n",
    "\n",
    "---\n",
    "\n",
    "## 1.4 Business Problem Statement\n",
    "\n",
    "- Churn impacts both revenue and brand reputation.\n",
    "- The cost of acquiring a new customer is significantly higher than retaining an existing one.\n",
    "- The current challenge is **lack of early warning systems** for customer churn.\n",
    "\n",
    "By predicting churn probability, SyriaTel can intervene before losing the customer.\n",
    "\n",
    "---\n",
    "\n",
    "## 1.5 Project Goals\n",
    "\n",
    "- **Build a classification model** using customer data to predict churn risk.\n",
    "- **Identify key drivers** (features) contributing to churn.\n",
    "- **Translate data insights into actionable business recommendations.**\n",
    "\n",
    "---\n",
    "\n",
    "## 1.6 Success Metrics\n",
    "\n",
    "- **Model Performance:** Achieve an acceptable balance between precision and recall (using classification metrics like F1-score).\n",
    "- **Business Impact:** Provide insights that SyriaTel’s marketing and customer success teams can implement.\n",
    "- **Actionable Insights:** Highlight features that are strong predictors of churn to inform business decisions.\n",
    "\n",
    "---\n",
    "\n",
    "## 1.7 Project Scope and Limitations\n",
    "\n",
    "- The model will be based on historical customer data available at the time of this project.\n",
    "- Predictions will be probabilistic — they suggest likelihood, not certainty.\n",
    "- Results and recommendations are constrained by the quality and depth of the dataset provided.\n",
    "\n",
    "---\n"
   ]
  },
  {
   "cell_type": "markdown",
   "id": "20a7f930",
   "metadata": {},
   "source": [
    "## 2. Data Understanding.\n",
    "### Dataset Overview  \n",
    "The dataset contains historical customer information from SyriaTel, including demographics, account information, usage patterns, and churn status.  \n",
    "Our goal in this phase is to understand the structure of the data, inspect column details, assess data quality, and identify potential issues for cleaning and preparation.\n",
    "\n",
    "2.1 Importing Libraries "
   ]
  },
  {
   "cell_type": "code",
   "execution_count": null,
   "id": "3b0f49ee",
   "metadata": {},
   "outputs": [],
   "source": [
    "# Importing Libraries \n",
    "import pandas as pd\n",
    "import numpy as np\n",
    "import matplotlib.pyplot as plt\n",
    "import seaborn as sns\n",
    "\n"
   ]
  },
  {
   "cell_type": "markdown",
   "id": "23b07f1c",
   "metadata": {},
   "source": [
    "## 2.2 Loading and Preview Dataset"
   ]
  },
  {
   "cell_type": "code",
   "execution_count": 6,
   "id": "69ddc1da",
   "metadata": {},
   "outputs": [],
   "source": [
    "df = pd.read_csv('../data/bigml_59c28831336c6604c800002a.csv')"
   ]
  },
  {
   "cell_type": "markdown",
   "id": "2985d125",
   "metadata": {},
   "source": [
    "## 2.3 Check Dataset Shape & Columns"
   ]
  },
  {
   "cell_type": "code",
   "execution_count": null,
   "id": "0b286541",
   "metadata": {},
   "outputs": [
    {
     "name": "stdout",
     "output_type": "stream",
     "text": [
      "Dataset Shape: (3333, 21)\n",
      "\n",
      "Columns:\n",
      " ['state', 'account length', 'area code', 'phone number', 'international plan', 'voice mail plan', 'number vmail messages', 'total day minutes', 'total day calls', 'total day charge', 'total eve minutes', 'total eve calls', 'total eve charge', 'total night minutes', 'total night calls', 'total night charge', 'total intl minutes', 'total intl calls', 'total intl charge', 'customer service calls', 'churn']\n"
     ]
    }
   ],
   "source": [
    "\n",
    "print(f\"Dataset Shape: {df.shape}\")\n",
    "print(\"\\nColumns:\\n\", df.columns.tolist())\n"
   ]
  },
  {
   "cell_type": "markdown",
   "id": "19da5550",
   "metadata": {},
   "source": [
    "## 2.3 Checking Data Types and Null values."
   ]
  },
  {
   "cell_type": "code",
   "execution_count": null,
   "id": "6613eec9",
   "metadata": {},
   "outputs": [],
   "source": [
    "\n",
    "df.info()\n",
    "df.isnull().sum()\n"
   ]
  }
 ],
 "metadata": {
  "kernelspec": {
   "display_name": "base",
   "language": "python",
   "name": "python3"
  },
  "language_info": {
   "codemirror_mode": {
    "name": "ipython",
    "version": 3
   },
   "file_extension": ".py",
   "mimetype": "text/x-python",
   "name": "python",
   "nbconvert_exporter": "python",
   "pygments_lexer": "ipython3",
   "version": "3.12.7"
  }
 },
 "nbformat": 4,
 "nbformat_minor": 5
}
