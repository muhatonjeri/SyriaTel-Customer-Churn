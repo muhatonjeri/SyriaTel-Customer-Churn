{
 "cells": [
  {
   "cell_type": "markdown",
   "id": "9c581fbe",
   "metadata": {},
   "source": [
    "# Business Understanding\n",
    "\n",
    "## 1. Background\n",
    "- In the telecom sector, **customer churn** — when users leave the service — leads to revenue loss and increased costs.\n",
    "- **SyriaTel**, a key market player, wants to reduce churn through data-driven insights.\n",
    "\n",
    "## 2. Business Problem\n",
    "- The company struggles to predict churn and target interventions.\n",
    "- Without a churn prediction model, SyriaTel risks higher acquisition costs and loss of loyal customers.\n",
    "\n",
    "## 3. Project Objectives\n",
    "- ✅ Develop a machine learning classification model to predict churn.\n",
    "- ✅ Identify top factors contributing to customer churn.\n",
    "- ✅ Support targeted retention strategies based on insights.\n",
    "\n",
    "## 4. Stakeholders & Impact\n",
    "- **Sales/Marketing:** Design retention offers for at-risk customers.\n",
    "- **Customer Service:** Enhance service quality for churn-prone clients.\n",
    "- **Management:** Align churn reduction with growth targets.\n",
    "\n",
    "## 5. Success Criteria\n",
    "- Reliable model performance (focus on recall/precision).\n",
    "- Clear, actionable insights on churn drivers.\n",
    "- Practical recommendations for reducing churn.\n",
    "\n"
   ]
  }
 ],
 "metadata": {
  "kernelspec": {
   "display_name": "base",
   "language": "python",
   "name": "python3"
  },
  "language_info": {
   "name": "python",
   "version": "3.12.7"
  }
 },
 "nbformat": 4,
 "nbformat_minor": 5
}
